{
 "cells": [
  {
   "cell_type": "code",
   "execution_count": 50,
   "metadata": {},
   "outputs": [],
   "source": [
    "from endplay.types import Deal, Contract, Denom, Vul, Player, Card\n",
    "from endplay.dealer import generate_deal\n",
    "from endplay.dds.ddtable import calc_dd_table\n",
    "import numpy as np\n",
    "import pandas as pd\n",
    "import seaborn as sns\n",
    "import matplotlib.pyplot as plt"
   ]
  },
  {
   "cell_type": "markdown",
   "metadata": {},
   "source": [
    "# Compute costs/rewards with dd"
   ]
  },
  {
   "cell_type": "code",
   "execution_count": 145,
   "metadata": {},
   "outputs": [],
   "source": [
    "def random_two_hands():\n",
    "    d = generate_deal()\n",
    "    return d.north, d.south\n",
    "\n",
    "def random_remaining_hands(north, south):\n",
    "    d = Deal()\n",
    "    d.north, d.south = north, south\n",
    "    return generate_deal(predeal=d)\n",
    "\n",
    "def tricks_dd(d):\n",
    "    return calc_dd_table(d)\n",
    "\n",
    "def tricks_tb_to_score(tricks):\n",
    "    scores = {Player.north: [0], Player.south: [0]}\n",
    "    for c in [Contract(level = l, denom = d, declarer=dc) \n",
    "                for l in range(1,8) \n",
    "                for d in [Denom.clubs, Denom.diamonds, Denom.hearts, Denom.spades, Denom.nt]\n",
    "                for dc in [Player.north, Player.south]]:\n",
    "        c.result = tricks[c.declarer,c.denom] - (c.level + 6)\n",
    "        scores[c.declarer].append(c.score(Vul.none))\n",
    "\n",
    "    scores[Player.north], scores[Player.south] =\\\n",
    "          np.array(scores[Player.north]), np.array(scores[Player.north])\n",
    "    return scores\n",
    "\n",
    "\n",
    "def mean_scores(north, south, N=5):\n",
    "    deals = [random_remaining_hands(north, south) for _ in range(N)]\n",
    "    score_results = [tricks_tb_to_score(tricks_dd(d))\n",
    "                   for d in deals]\n",
    "    score_means = {}\n",
    "    for p in [Player.north, Player.south]:\n",
    "        score_means[p] = np.mean(np.concat([r[p].reshape(1,-1) for r in score_results], axis = 0),\n",
    "                                axis = 0)\n",
    "    return score_means\n",
    "\n",
    "\n",
    "def score_to_imp(diff):\n",
    "    assert diff >= 0\n",
    "    imp_table = [\n",
    "        (0,0), (20, 1), (50, 2), (90, 3), (130, 4), (170, 5), (220, 6),\n",
    "        (260, 7), (310, 8), (360, 9), (420, 10), (490, 11), (590, 12),\n",
    "        (740, 13), (890, 14), (1090, 15), (1290, 16), (1490, 17), (1740, 18),\n",
    "        (1990, 19), (2240, 20), (2490, 21), (2990, 22), (3490, 23), (3990, 24)\n",
    "    ]\n",
    "    \n",
    "    for threshold, imp in imp_table:\n",
    "        if diff <= threshold:\n",
    "            return imp\n",
    "    return 24\n",
    "\n",
    "\n",
    "def costs_imp(scores):\n",
    "    costs = {}\n",
    "    for p in [Player.north, Player.south]:\n",
    "        costs[p] = np.array([score_to_imp(diff) \n",
    "                             for diff in np.max(scores[p]) - scores[p]])\n",
    "    return costs\n",
    "\n",
    "\n",
    "def reward_from_cost(imps):\n",
    "    rewards = {}\n",
    "    for p in [Player.north, Player.south]:\n",
    "        rewards[p] = 1 - (imps[p] - np.min(imps[p]))/25\n",
    "    return rewards"
   ]
  },
  {
   "cell_type": "code",
   "execution_count": 146,
   "metadata": {},
   "outputs": [
    {
     "name": "stdout",
     "output_type": "stream",
     "text": [
      "♠ JT54\n",
      "♥ J654\n",
      "♦ K64\n",
      "♣ Q2\n",
      "♠ 63\n",
      "♥ KT3\n",
      "♦ J95\n",
      "♣ AT964\n",
      "              JT54\n",
      "              J654\n",
      "              K64\n",
      "              Q2\n",
      "K7                          AQ982\n",
      "AQ872                       9\n",
      "AQT32                       87\n",
      "8                           KJ753\n",
      "              63\n",
      "              KT3\n",
      "              J95\n",
      "              AT964\n"
     ]
    }
   ],
   "source": [
    "north, south = random_two_hands()\n",
    "d = random_remaining_hands(north, south)\n",
    "north.pprint()\n",
    "south.pprint()\n",
    "d.pprint()"
   ]
  },
  {
   "cell_type": "code",
   "execution_count": 147,
   "metadata": {},
   "outputs": [
    {
     "name": "stdout",
     "output_type": "stream",
     "text": [
      "     ♣  ♦  ♥  ♠ NT\n",
      "  N  4  2  4  3  3\n",
      "  S  4  2  4  2  4\n",
      "  E  9 10  9 10  9\n",
      "  W  8 10  9 10  9\n"
     ]
    }
   ],
   "source": [
    "tricks = tricks_dd(d)\n",
    "tricks.pprint()"
   ]
  },
  {
   "cell_type": "code",
   "execution_count": 148,
   "metadata": {},
   "outputs": [
    {
     "data": {
      "text/plain": [
       "{<Player.north: 0>: array([   0, -150, -250, -150, -200, -200, -200, -300, -200, -250, -250,\n",
       "        -250, -350, -250, -300, -300, -300, -400, -300, -350, -350, -350,\n",
       "        -450, -350, -400, -400, -400, -500, -400, -450, -450, -450, -550,\n",
       "        -450, -500, -500]),\n",
       " <Player.south: 2>: array([   0, -150, -250, -150, -200, -200, -200, -300, -200, -250, -250,\n",
       "        -250, -350, -250, -300, -300, -300, -400, -300, -350, -350, -350,\n",
       "        -450, -350, -400, -400, -400, -500, -400, -450, -450, -450, -550,\n",
       "        -450, -500, -500])}"
      ]
     },
     "execution_count": 148,
     "metadata": {},
     "output_type": "execute_result"
    }
   ],
   "source": [
    "tricks_tb_to_score(tricks_dd(d))"
   ]
  },
  {
   "cell_type": "code",
   "execution_count": 149,
   "metadata": {},
   "outputs": [
    {
     "data": {
      "text/plain": [
       "{<Player.north: 0>: array([   0.,  -90., -190., -130., -190., -150., -140., -240., -180.,\n",
       "        -240., -200., -190., -290., -230., -290., -250., -240., -340.,\n",
       "        -280., -340., -300., -290., -390., -330., -390., -350., -340.,\n",
       "        -440., -380., -440., -400., -390., -490., -430., -490., -450.]),\n",
       " <Player.south: 2>: array([   0.,  -90., -190., -130., -190., -150., -140., -240., -180.,\n",
       "        -240., -200., -190., -290., -230., -290., -250., -240., -340.,\n",
       "        -280., -340., -300., -290., -390., -330., -390., -350., -340.,\n",
       "        -440., -380., -440., -400., -390., -490., -430., -490., -450.])}"
      ]
     },
     "execution_count": 149,
     "metadata": {},
     "output_type": "execute_result"
    }
   ],
   "source": [
    "scores = mean_scores(north, south)\n",
    "scores"
   ]
  },
  {
   "cell_type": "code",
   "execution_count": 150,
   "metadata": {},
   "outputs": [
    {
     "data": {
      "text/plain": [
       "{<Player.north: 0>: array([ 0,  3,  6,  4,  6,  5,  5,  7,  6,  7,  6,  6,  8,  7,  8,  7,  7,\n",
       "         9,  8,  9,  8,  8, 10,  9, 10,  9,  9, 11, 10, 11, 10, 10, 11, 11,\n",
       "        11, 11]),\n",
       " <Player.south: 2>: array([ 0,  3,  6,  4,  6,  5,  5,  7,  6,  7,  6,  6,  8,  7,  8,  7,  7,\n",
       "         9,  8,  9,  8,  8, 10,  9, 10,  9,  9, 11, 10, 11, 10, 10, 11, 11,\n",
       "        11, 11])}"
      ]
     },
     "execution_count": 150,
     "metadata": {},
     "output_type": "execute_result"
    }
   ],
   "source": [
    "costs = costs_imp(scores)\n",
    "costs"
   ]
  },
  {
   "cell_type": "code",
   "execution_count": 151,
   "metadata": {},
   "outputs": [
    {
     "data": {
      "text/plain": [
       "{<Player.north: 0>: array([1.  , 0.88, 0.76, 0.84, 0.76, 0.8 , 0.8 , 0.72, 0.76, 0.72, 0.76,\n",
       "        0.76, 0.68, 0.72, 0.68, 0.72, 0.72, 0.64, 0.68, 0.64, 0.68, 0.68,\n",
       "        0.6 , 0.64, 0.6 , 0.64, 0.64, 0.56, 0.6 , 0.56, 0.6 , 0.6 , 0.56,\n",
       "        0.56, 0.56, 0.56]),\n",
       " <Player.south: 2>: array([1.  , 0.88, 0.76, 0.84, 0.76, 0.8 , 0.8 , 0.72, 0.76, 0.72, 0.76,\n",
       "        0.76, 0.68, 0.72, 0.68, 0.72, 0.72, 0.64, 0.68, 0.64, 0.68, 0.68,\n",
       "        0.6 , 0.64, 0.6 , 0.64, 0.64, 0.56, 0.6 , 0.56, 0.6 , 0.6 , 0.56,\n",
       "        0.56, 0.56, 0.56])}"
      ]
     },
     "execution_count": 151,
     "metadata": {},
     "output_type": "execute_result"
    }
   ],
   "source": [
    "reward_from_cost(costs)"
   ]
  },
  {
   "cell_type": "markdown",
   "metadata": {},
   "source": [
    "# One-hot encoded hands"
   ]
  },
  {
   "cell_type": "code",
   "execution_count": 153,
   "metadata": {},
   "outputs": [
    {
     "name": "stdout",
     "output_type": "stream",
     "text": [
      "♠ AKQ5\n",
      "♥ AQ7532\n",
      "♦ J8\n",
      "♣ 5\n",
      "\n",
      "♠ J3\n",
      "♥ T8\n",
      "♦ AKT6\n",
      "♣ KQ987\n"
     ]
    }
   ],
   "source": [
    "north, south = random_two_hands()\n",
    "north.pprint()\n",
    "print()\n",
    "south.pprint()"
   ]
  },
  {
   "cell_type": "code",
   "execution_count": null,
   "metadata": {},
   "outputs": [],
   "source": [
    "def one_hot_hands(hand):\n",
    "    cards_index = {Card(name = f\"{denom}{rank}\"): i \n",
    "                    for i, (denom, rank) in enumerate((d, r) for d in [\"C\", \"D\", \"H\", \"S\"]\\\n",
    "                                                           for r in [2, 3, 4, 5, 6, 7, 8, 9, \"T\", \"J\", \"Q\", \"K\", \"A\"])}\n",
    "    ohe = np.zeros(52)\n",
    "\n",
    "    for card in hand:\n",
    "        ohe[cards_index[card]] = 1\n",
    "    return ohe"
   ]
  },
  {
   "cell_type": "code",
   "execution_count": 201,
   "metadata": {},
   "outputs": [
    {
     "data": {
      "text/plain": [
       "(array([0., 0., 0., 1., 0., 0., 0., 0., 0., 0., 0., 0., 0., 0., 0., 0., 0.,\n",
       "        0., 0., 1., 0., 0., 1., 0., 0., 0., 1., 1., 0., 1., 0., 1., 0., 0.,\n",
       "        0., 0., 1., 0., 1., 0., 0., 0., 1., 0., 0., 0., 0., 0., 0., 1., 1.,\n",
       "        1.]),\n",
       " array([0., 0., 0., 0., 0., 1., 1., 1., 0., 0., 1., 1., 0., 0., 0., 0., 0.,\n",
       "        1., 0., 0., 0., 1., 0., 0., 1., 1., 0., 0., 0., 0., 0., 0., 1., 0.,\n",
       "        1., 0., 0., 0., 0., 0., 1., 0., 0., 0., 0., 0., 0., 0., 1., 0., 0.,\n",
       "        0.]))"
      ]
     },
     "execution_count": 201,
     "metadata": {},
     "output_type": "execute_result"
    }
   ],
   "source": [
    "one_hot_hands(north), one_hot_hands(south)"
   ]
  },
  {
   "cell_type": "markdown",
   "metadata": {},
   "source": [
    "# Save dataset"
   ]
  },
  {
   "cell_type": "code",
   "execution_count": 17,
   "metadata": {},
   "outputs": [],
   "source": [
    "import tools as tools"
   ]
  },
  {
   "cell_type": "code",
   "execution_count": 81,
   "metadata": {},
   "outputs": [
    {
     "name": "stdout",
     "output_type": "stream",
     "text": [
      "100\n"
     ]
    },
    {
     "name": "stderr",
     "output_type": "stream",
     "text": [
      "100%|██████████| 1000/1000 [20:07<00:00,  1.21s/it]\n"
     ]
    },
    {
     "name": "stdout",
     "output_type": "stream",
     "text": [
      "101\n"
     ]
    },
    {
     "name": "stderr",
     "output_type": "stream",
     "text": [
      "100%|██████████| 1000/1000 [18:31<00:00,  1.11s/it]\n"
     ]
    },
    {
     "name": "stdout",
     "output_type": "stream",
     "text": [
      "102\n"
     ]
    },
    {
     "name": "stderr",
     "output_type": "stream",
     "text": [
      "100%|██████████| 1000/1000 [18:49<00:00,  1.13s/it]\n"
     ]
    },
    {
     "name": "stdout",
     "output_type": "stream",
     "text": [
      "103\n"
     ]
    },
    {
     "name": "stderr",
     "output_type": "stream",
     "text": [
      "100%|██████████| 1000/1000 [16:24<00:00,  1.02it/s]\n"
     ]
    },
    {
     "name": "stdout",
     "output_type": "stream",
     "text": [
      "104\n"
     ]
    },
    {
     "name": "stderr",
     "output_type": "stream",
     "text": [
      "100%|██████████| 1000/1000 [19:01<00:00,  1.14s/it]\n"
     ]
    },
    {
     "name": "stdout",
     "output_type": "stream",
     "text": [
      "105\n"
     ]
    },
    {
     "name": "stderr",
     "output_type": "stream",
     "text": [
      "100%|██████████| 1000/1000 [21:01<00:00,  1.26s/it] \n"
     ]
    },
    {
     "name": "stdout",
     "output_type": "stream",
     "text": [
      "106\n"
     ]
    },
    {
     "name": "stderr",
     "output_type": "stream",
     "text": [
      "100%|██████████| 1000/1000 [18:02<00:00,  1.08s/it]\n"
     ]
    },
    {
     "name": "stdout",
     "output_type": "stream",
     "text": [
      "107\n"
     ]
    },
    {
     "name": "stderr",
     "output_type": "stream",
     "text": [
      "100%|██████████| 1000/1000 [17:09<00:00,  1.03s/it]\n"
     ]
    },
    {
     "name": "stdout",
     "output_type": "stream",
     "text": [
      "108\n"
     ]
    },
    {
     "name": "stderr",
     "output_type": "stream",
     "text": [
      "100%|██████████| 1000/1000 [16:49<00:00,  1.01s/it]\n"
     ]
    },
    {
     "name": "stdout",
     "output_type": "stream",
     "text": [
      "109\n"
     ]
    },
    {
     "name": "stderr",
     "output_type": "stream",
     "text": [
      "100%|██████████| 1000/1000 [14:57<00:00,  1.11it/s]\n"
     ]
    },
    {
     "name": "stdout",
     "output_type": "stream",
     "text": [
      "110\n"
     ]
    },
    {
     "name": "stderr",
     "output_type": "stream",
     "text": [
      "100%|██████████| 1000/1000 [17:26<00:00,  1.05s/it]\n"
     ]
    },
    {
     "name": "stdout",
     "output_type": "stream",
     "text": [
      "111\n"
     ]
    },
    {
     "name": "stderr",
     "output_type": "stream",
     "text": [
      "100%|██████████| 1000/1000 [16:23<00:00,  1.02it/s]\n"
     ]
    },
    {
     "name": "stdout",
     "output_type": "stream",
     "text": [
      "112\n"
     ]
    },
    {
     "name": "stderr",
     "output_type": "stream",
     "text": [
      "100%|██████████| 1000/1000 [14:57<00:00,  1.11it/s]\n"
     ]
    },
    {
     "name": "stdout",
     "output_type": "stream",
     "text": [
      "113\n"
     ]
    },
    {
     "name": "stderr",
     "output_type": "stream",
     "text": [
      "100%|██████████| 1000/1000 [15:29<00:00,  1.08it/s]\n"
     ]
    },
    {
     "name": "stdout",
     "output_type": "stream",
     "text": [
      "114\n"
     ]
    },
    {
     "name": "stderr",
     "output_type": "stream",
     "text": [
      "100%|██████████| 1000/1000 [15:54<00:00,  1.05it/s]\n"
     ]
    },
    {
     "name": "stdout",
     "output_type": "stream",
     "text": [
      "115\n"
     ]
    },
    {
     "name": "stderr",
     "output_type": "stream",
     "text": [
      "100%|██████████| 1000/1000 [15:58<00:00,  1.04it/s]\n"
     ]
    },
    {
     "name": "stdout",
     "output_type": "stream",
     "text": [
      "116\n"
     ]
    },
    {
     "name": "stderr",
     "output_type": "stream",
     "text": [
      "100%|██████████| 1000/1000 [16:01<00:00,  1.04it/s]\n"
     ]
    },
    {
     "name": "stdout",
     "output_type": "stream",
     "text": [
      "117\n"
     ]
    },
    {
     "name": "stderr",
     "output_type": "stream",
     "text": [
      "100%|██████████| 1000/1000 [15:48<00:00,  1.05it/s] \n"
     ]
    },
    {
     "name": "stdout",
     "output_type": "stream",
     "text": [
      "118\n"
     ]
    },
    {
     "name": "stderr",
     "output_type": "stream",
     "text": [
      "100%|██████████| 1000/1000 [14:58<00:00,  1.11it/s]\n"
     ]
    },
    {
     "name": "stdout",
     "output_type": "stream",
     "text": [
      "119\n"
     ]
    },
    {
     "name": "stderr",
     "output_type": "stream",
     "text": [
      "100%|██████████| 1000/1000 [15:08<00:00,  1.10it/s]\n"
     ]
    },
    {
     "name": "stdout",
     "output_type": "stream",
     "text": [
      "120\n"
     ]
    },
    {
     "name": "stderr",
     "output_type": "stream",
     "text": [
      "100%|██████████| 1000/1000 [14:31<00:00,  1.15it/s]\n"
     ]
    },
    {
     "name": "stdout",
     "output_type": "stream",
     "text": [
      "121\n"
     ]
    },
    {
     "name": "stderr",
     "output_type": "stream",
     "text": [
      "100%|██████████| 1000/1000 [16:26<00:00,  1.01it/s]\n"
     ]
    },
    {
     "name": "stdout",
     "output_type": "stream",
     "text": [
      "122\n"
     ]
    },
    {
     "name": "stderr",
     "output_type": "stream",
     "text": [
      "100%|██████████| 1000/1000 [19:38<00:00,  1.18s/it]\n"
     ]
    },
    {
     "name": "stdout",
     "output_type": "stream",
     "text": [
      "123\n"
     ]
    },
    {
     "name": "stderr",
     "output_type": "stream",
     "text": [
      "100%|██████████| 1000/1000 [18:17<00:00,  1.10s/it]\n"
     ]
    },
    {
     "name": "stdout",
     "output_type": "stream",
     "text": [
      "124\n"
     ]
    },
    {
     "name": "stderr",
     "output_type": "stream",
     "text": [
      "100%|██████████| 1000/1000 [19:20<00:00,  1.16s/it] \n"
     ]
    },
    {
     "name": "stdout",
     "output_type": "stream",
     "text": [
      "125\n"
     ]
    },
    {
     "name": "stderr",
     "output_type": "stream",
     "text": [
      "100%|██████████| 1000/1000 [18:17<00:00,  1.10s/it]\n"
     ]
    },
    {
     "name": "stdout",
     "output_type": "stream",
     "text": [
      "126\n"
     ]
    },
    {
     "name": "stderr",
     "output_type": "stream",
     "text": [
      "100%|██████████| 1000/1000 [18:31<00:00,  1.11s/it]\n"
     ]
    },
    {
     "name": "stdout",
     "output_type": "stream",
     "text": [
      "127\n"
     ]
    },
    {
     "name": "stderr",
     "output_type": "stream",
     "text": [
      "100%|██████████| 1000/1000 [18:24<00:00,  1.10s/it]\n"
     ]
    },
    {
     "name": "stdout",
     "output_type": "stream",
     "text": [
      "128\n"
     ]
    },
    {
     "name": "stderr",
     "output_type": "stream",
     "text": [
      "100%|██████████| 1000/1000 [17:36<00:00,  1.06s/it]\n"
     ]
    },
    {
     "name": "stdout",
     "output_type": "stream",
     "text": [
      "129\n"
     ]
    },
    {
     "name": "stderr",
     "output_type": "stream",
     "text": [
      "100%|██████████| 1000/1000 [17:35<00:00,  1.06s/it]\n"
     ]
    },
    {
     "name": "stdout",
     "output_type": "stream",
     "text": [
      "130\n"
     ]
    },
    {
     "name": "stderr",
     "output_type": "stream",
     "text": [
      "100%|██████████| 1000/1000 [16:28<00:00,  1.01it/s]\n"
     ]
    }
   ],
   "source": [
    "for slice in range(100,131):\n",
    "    print(slice)\n",
    "    tools.generate_df(1000).to_csv(f\"data/slice{slice}.csv\")"
   ]
  },
  {
   "cell_type": "code",
   "execution_count": 92,
   "metadata": {},
   "outputs": [
    {
     "data": {
      "text/plain": [
       "(10080000,)"
      ]
     },
     "execution_count": 92,
     "metadata": {},
     "output_type": "execute_result"
    }
   ],
   "source": [
    "r_list = []\n",
    "for slice in range(14):\n",
    "    r_list.append(np.array(pd.read_csv(f\"data/slice{slice}.csv\", index_col = 0).iloc[:,104:]).flatten())\n",
    "rewards = np.concatenate(r_list)\n",
    "rewards.shape"
   ]
  },
  {
   "cell_type": "code",
   "execution_count": 96,
   "metadata": {},
   "outputs": [],
   "source": [
    "r, counts = np.unique(rewards, return_counts = True)\n",
    "counts = counts / 109000"
   ]
  },
  {
   "cell_type": "code",
   "execution_count": 97,
   "metadata": {},
   "outputs": [
    {
     "data": {
      "image/png": "[encoded data removed]",
      "text/plain": [
       "<Figure size 432x288 with 1 Axes>"
      ]
     },
     "metadata": {
      "needs_background": "light"
     },
     "output_type": "display_data"
    }
   ],
   "source": [
    "sns.scatterplot(x = r, y = counts,s=10)\n",
    "plt.xlabel(\"Reward\")\n",
    "plt.ylabel(\"Count/nb_deals\")\n",
    "plt.grid()"
   ]
  },
  {
   "cell_type": "code",
   "execution_count": null,
   "metadata": {},
   "outputs": [],
   "source": []
  }
 ],
 "metadata": {
  "kernelspec": {
   "display_name": "Python 3",
   "language": "python",
   "name": "python3"
  },
  "language_info": {
   "codemirror_mode": {
    "name": "ipython",
    "version": 3
   },
   "file_extension": ".py",
   "mimetype": "text/x-python",
   "name": "python",
   "nbconvert_exporter": "python",
   "pygments_lexer": "ipython3",
   "version": "3.9.7"
  }
 },
 "nbformat": 4,
 "nbformat_minor": 2
}
