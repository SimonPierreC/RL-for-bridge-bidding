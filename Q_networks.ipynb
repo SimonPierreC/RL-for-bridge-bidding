{
 "cells": [
  {
   "cell_type": "code",
   "execution_count": 1,
   "metadata": {},
   "outputs": [],
   "source": [
    "import nn_tools\n",
    "import numpy as np\n",
    "import pandas as pd\n",
    "from tqdm import tqdm\n",
    "import seaborn as sns"
   ]
  },
  {
   "cell_type": "code",
   "execution_count": 2,
   "metadata": {},
   "outputs": [],
   "source": [
    "df = pd.read_csv(\"data/slice0.csv\", index_col = 0)\n",
    "D = []\n",
    "for k in range(5):\n",
    "    if k==0:\n",
    "        D.append([np.array(df.iloc[:,:52]), np.array(df.iloc[:,-36:])])\n",
    "    else:\n",
    "        if k%2 == 0:\n",
    "            D.append([np.concatenate([np.array(df.iloc[:,:52]).astype(float),\n",
    "                                        np.ones((df.shape[0], 36))],\n",
    "                                        axis = 1),\n",
    "                       np.array(df.iloc[:,-36:]).astype(float)])\n",
    "        if k%2 == 1:\n",
    "            D.append([np.concatenate([np.array(df.iloc[:,52:104]).astype(float),\n",
    "                                        np.ones((df.shape[0], 36))],\n",
    "                                        axis = 1),\n",
    "                       np.array(df.iloc[:,-36:]).astype(float)])"
   ]
  },
  {
   "cell_type": "code",
   "execution_count": 3,
   "metadata": {},
   "outputs": [],
   "source": [
    "Q_list = nn_tools.define_Q(5)"
   ]
  },
  {
   "cell_type": "code",
   "execution_count": 6,
   "metadata": {},
   "outputs": [
    {
     "name": "stderr",
     "output_type": "stream",
     "text": [
      "100%|██████████| 50/50 [02:57<00:00,  3.54s/it]\n"
     ]
    }
   ],
   "source": [
    "losses = []\n",
    "for _ in tqdm(range(50)):\n",
    "    losses.append(nn_tools.one_epoch_layers(Q_list, D, nn_tools.optimiers_list(Q_list)))"
   ]
  },
  {
   "cell_type": "code",
   "execution_count": 10,
   "metadata": {},
   "outputs": [
    {
     "data": {
      "text/plain": [
       "<Axes: >"
      ]
     },
     "execution_count": 10,
     "metadata": {},
     "output_type": "execute_result"
    },
    {
     "data": {
      "image/png": "[encoded data removed]",
      "text/plain": [
       "<Figure size 432x288 with 1 Axes>"
      ]
     },
     "metadata": {
      "needs_background": "light"
     },
     "output_type": "display_data"
    }
   ],
   "source": [
    "sns.lineplot(np.array(losses)[:,0])"
   ]
  }
 ],
 "metadata": {
  "kernelspec": {
   "display_name": "Python 3",
   "language": "python",
   "name": "python3"
  },
  "language_info": {
   "codemirror_mode": {
    "name": "ipython",
    "version": 3
   },
   "file_extension": ".py",
   "mimetype": "text/x-python",
   "name": "python",
   "nbconvert_exporter": "python",
   "pygments_lexer": "ipython3",
   "version": "3.9.7"
  }
 },
 "nbformat": 4,
 "nbformat_minor": 2
}
